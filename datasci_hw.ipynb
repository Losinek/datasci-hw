{
  "nbformat": 4,
  "nbformat_minor": 0,
  "metadata": {
    "colab": {
      "name": "datasci hw.ipynb",
      "provenance": [],
      "collapsed_sections": []
    },
    "kernelspec": {
      "name": "python3",
      "display_name": "Python 3"
    }
  },
  "cells": [
    {
      "cell_type": "code",
      "metadata": {
        "id": "gQar5k3Zk7Ho"
      },
      "source": [
        "#Scraping Bulbapedia"
      ],
      "execution_count": null,
      "outputs": []
    },
    {
      "cell_type": "code",
      "metadata": {
        "id": "EHanEYxexhfS"
      },
      "source": [
        "import requests"
      ],
      "execution_count": null,
      "outputs": []
    },
    {
      "cell_type": "code",
      "metadata": {
        "id": "6HQ_DraTxlYN"
      },
      "source": [
        "URL = \"https://bulbapedia.bulbagarden.net/wiki/List_of_Pok%C3%A9mon_by_National_Pok%C3%A9dex_number\""
      ],
      "execution_count": null,
      "outputs": []
    },
    {
      "cell_type": "code",
      "metadata": {
        "id": "6Zaqg802x10W"
      },
      "source": [
        "page=requests.get(URL)"
      ],
      "execution_count": null,
      "outputs": []
    },
    {
      "cell_type": "code",
      "metadata": {
        "id": "feg5n5fhx_d_"
      },
      "source": [
        "from bs4 import BeautifulSoup\r\n",
        "\r\n",
        "soup = BeautifulSoup(page.content, 'html.parser')"
      ],
      "execution_count": null,
      "outputs": []
    },
    {
      "cell_type": "code",
      "metadata": {
        "id": "ud4OgEFTyJsU"
      },
      "source": [
        "poke_content=soup.find(id='mw-content-text')\r\n",
        "poke_tables=poke_content.find_all('table')"
      ],
      "execution_count": null,
      "outputs": []
    },
    {
      "cell_type": "code",
      "metadata": {
        "id": "PC2VKRyMyV6U"
      },
      "source": [
        "gen2=poke_tables[2]\r\n",
        "gen3=poke_tables[3]\r\n",
        "gen4=poke_tables[4]\r\n",
        "gen5=poke_tables[5]\r\n",
        "gen6=poke_tables[6]\r\n",
        "gen7=poke_tables[7]\r\n",
        "gen8=poke_tables[8]"
      ],
      "execution_count": null,
      "outputs": []
    },
    {
      "cell_type": "code",
      "metadata": {
        "id": "hGzKGxQe1eya"
      },
      "source": [
        "info_start=3\r\n",
        "\r\n",
        "gen2Info=gen2.contents[info_start]"
      ],
      "execution_count": null,
      "outputs": []
    },
    {
      "cell_type": "code",
      "metadata": {
        "id": "CbuvCvHn55oF"
      },
      "source": [
        "import re"
      ],
      "execution_count": null,
      "outputs": []
    },
    {
      "cell_type": "code",
      "metadata": {
        "colab": {
          "base_uri": "https://localhost:8080/"
        },
        "id": "vg8myQ-l2aZS",
        "outputId": "82b675da-6207-4841-de1b-125c916be8b3"
      },
      "source": [
        "kdex=gen2Info.contents[1].text.strip()\r\n",
        "ndex=gen2Info.contents[3].text.strip()\r\n",
        "name=gen2Info.contents[7].text.strip()\r\n",
        "type1=gen2Info.contents[9].text.strip()\r\n",
        "if len(gen2Info.contents) > 10:\r\n",
        "  type2=gen2Info.contents[11].text.strip()\r\n",
        "PokeURL=gen2Info.contents[7].find('a', href = re.compile(r'[/]([a-z]|[A-Z])\\w+')).attrs['href']\r\n",
        "\r\n",
        "print(f'Pokemon {ndex} {name} : {PokeURL}')"
      ],
      "execution_count": null,
      "outputs": [
        {
          "output_type": "stream",
          "text": [
            "Pokemon #152 Chikorita : /wiki/Chikorita_(Pok%C3%A9mon)\n"
          ],
          "name": "stdout"
        }
      ]
    },
    {
      "cell_type": "code",
      "metadata": {
        "colab": {
          "base_uri": "https://localhost:8080/",
          "height": 17
        },
        "id": "xeYQD44w8m25",
        "outputId": "141fa225-56b5-463e-954e-e65557acb52f"
      },
      "source": [
        "gen2json = []\r\n",
        "\r\n",
        "for i in range(info_start, len(gen2.contents), 2):\r\n",
        "    poke_info=gen2.contents[i]\r\n",
        "    kdex=poke_info.contents[1].text.strip()\r\n",
        "    ndex=poke_info.contents[3].text.strip()\r\n",
        "    name=poke_info.contents[7].text.strip()\r\n",
        "    PokeURL=poke_info.contents[7].find('a', href = re.compile(r'[/]([a-z]|[A-Z])\\w+')).attrs['href']\r\n",
        "    type1=poke_info.contents[9].text.strip()\r\n",
        "    if len(poke_info.contents) > 10:\r\n",
        "        type2=poke_info.contents[11].text.strip()\r\n",
        "        gen2json.append({\r\n",
        "            \"kdex\": kdex,\r\n",
        "            \"ndex\": ndex,\r\n",
        "            \"name\": name,\r\n",
        "            \"type1\": type1,\r\n",
        "            \"type2\": type2,\r\n",
        "            \"URL\": PokeURL\r\n",
        "        })\r\n",
        "    else:\r\n",
        "        gen2json.append({\r\n",
        "            \"kdex\": kdex,\r\n",
        "            \"ndex\": ndex,\r\n",
        "            \"name\": name,\r\n",
        "            \"type1\": type1,\r\n",
        "            \"URL\": PokeURL\r\n",
        "        })\r\n",
        "        \r\n",
        "gen2json\r\n",
        "\r\n",
        "from google.colab import files\r\n",
        "import json\r\n",
        "\r\n",
        "x = json.dumps (gen2json)\r\n",
        "y = x.encode('utf-8')\r\n",
        "with open('gen2.json', 'w') as f:\r\n",
        "  f.write(str(y))\r\n",
        "\r\n",
        "files.download('gen2.json')"
      ],
      "execution_count": null,
      "outputs": [
        {
          "output_type": "display_data",
          "data": {
            "application/javascript": [
              "\n",
              "    async function download(id, filename, size) {\n",
              "      if (!google.colab.kernel.accessAllowed) {\n",
              "        return;\n",
              "      }\n",
              "      const div = document.createElement('div');\n",
              "      const label = document.createElement('label');\n",
              "      label.textContent = `Downloading \"${filename}\": `;\n",
              "      div.appendChild(label);\n",
              "      const progress = document.createElement('progress');\n",
              "      progress.max = size;\n",
              "      div.appendChild(progress);\n",
              "      document.body.appendChild(div);\n",
              "\n",
              "      const buffers = [];\n",
              "      let downloaded = 0;\n",
              "\n",
              "      const channel = await google.colab.kernel.comms.open(id);\n",
              "      // Send a message to notify the kernel that we're ready.\n",
              "      channel.send({})\n",
              "\n",
              "      for await (const message of channel.messages) {\n",
              "        // Send a message to notify the kernel that we're ready.\n",
              "        channel.send({})\n",
              "        if (message.buffers) {\n",
              "          for (const buffer of message.buffers) {\n",
              "            buffers.push(buffer);\n",
              "            downloaded += buffer.byteLength;\n",
              "            progress.value = downloaded;\n",
              "          }\n",
              "        }\n",
              "      }\n",
              "      const blob = new Blob(buffers, {type: 'application/binary'});\n",
              "      const a = document.createElement('a');\n",
              "      a.href = window.URL.createObjectURL(blob);\n",
              "      a.download = filename;\n",
              "      div.appendChild(a);\n",
              "      a.click();\n",
              "      div.remove();\n",
              "    }\n",
              "  "
            ],
            "text/plain": [
              "<IPython.core.display.Javascript object>"
            ]
          },
          "metadata": {
            "tags": []
          }
        },
        {
          "output_type": "display_data",
          "data": {
            "application/javascript": [
              "download(\"download_a7b78691-dddb-47a1-ad3b-c677bd913c71\", \"gen2.json\", 12225)"
            ],
            "text/plain": [
              "<IPython.core.display.Javascript object>"
            ]
          },
          "metadata": {
            "tags": []
          }
        }
      ]
    },
    {
      "cell_type": "code",
      "metadata": {
        "colab": {
          "base_uri": "https://localhost:8080/",
          "height": 17
        },
        "id": "Aatx4t3o-h3D",
        "outputId": "687b16fd-a69c-4a72-db66-2b19bfcca447"
      },
      "source": [
        "gen3json = []\r\n",
        "\r\n",
        "for i in range(info_start, len(gen3.contents), 2):\r\n",
        "    poke_info=gen3.contents[i]\r\n",
        "    kdex=poke_info.contents[1].text.strip()\r\n",
        "    ndex=poke_info.contents[3].text.strip()\r\n",
        "    name=poke_info.contents[7].text.strip()\r\n",
        "    PokeURL=poke_info.contents[7].find('a', href = re.compile(r'[/]([a-z]|[A-Z])\\w+')).attrs['href']\r\n",
        "    type1=poke_info.contents[9].text.strip()\r\n",
        "    if len(poke_info.contents) > 10:\r\n",
        "        type2=poke_info.contents[11].text.strip()\r\n",
        "        gen3json.append({\r\n",
        "            \"kdex\": kdex,\r\n",
        "            \"ndex\": ndex,\r\n",
        "            \"name\": name,\r\n",
        "            \"type1\": type1,\r\n",
        "            \"type2\": type2,\r\n",
        "            \"URL\": PokeURL\r\n",
        "        })\r\n",
        "    else:\r\n",
        "        gen3json.append({\r\n",
        "            \"kdex\": kdex,\r\n",
        "            \"ndex\": ndex,\r\n",
        "            \"name\": name,\r\n",
        "            \"type1\": type1,\r\n",
        "            \"URL\": PokeURL\r\n",
        "        })\r\n",
        "        \r\n",
        "gen3json\r\n",
        "\r\n",
        "x = json.dumps (gen3json)\r\n",
        "y = x.encode('utf-8')\r\n",
        "with open('gen3.json', 'w') as f:\r\n",
        "  f.write(str(y))\r\n",
        "\r\n",
        "files.download('gen3.json')"
      ],
      "execution_count": null,
      "outputs": [
        {
          "output_type": "display_data",
          "data": {
            "application/javascript": [
              "\n",
              "    async function download(id, filename, size) {\n",
              "      if (!google.colab.kernel.accessAllowed) {\n",
              "        return;\n",
              "      }\n",
              "      const div = document.createElement('div');\n",
              "      const label = document.createElement('label');\n",
              "      label.textContent = `Downloading \"${filename}\": `;\n",
              "      div.appendChild(label);\n",
              "      const progress = document.createElement('progress');\n",
              "      progress.max = size;\n",
              "      div.appendChild(progress);\n",
              "      document.body.appendChild(div);\n",
              "\n",
              "      const buffers = [];\n",
              "      let downloaded = 0;\n",
              "\n",
              "      const channel = await google.colab.kernel.comms.open(id);\n",
              "      // Send a message to notify the kernel that we're ready.\n",
              "      channel.send({})\n",
              "\n",
              "      for await (const message of channel.messages) {\n",
              "        // Send a message to notify the kernel that we're ready.\n",
              "        channel.send({})\n",
              "        if (message.buffers) {\n",
              "          for (const buffer of message.buffers) {\n",
              "            buffers.push(buffer);\n",
              "            downloaded += buffer.byteLength;\n",
              "            progress.value = downloaded;\n",
              "          }\n",
              "        }\n",
              "      }\n",
              "      const blob = new Blob(buffers, {type: 'application/binary'});\n",
              "      const a = document.createElement('a');\n",
              "      a.href = window.URL.createObjectURL(blob);\n",
              "      a.download = filename;\n",
              "      div.appendChild(a);\n",
              "      a.click();\n",
              "      div.remove();\n",
              "    }\n",
              "  "
            ],
            "text/plain": [
              "<IPython.core.display.Javascript object>"
            ]
          },
          "metadata": {
            "tags": []
          }
        },
        {
          "output_type": "display_data",
          "data": {
            "application/javascript": [
              "download(\"download_e84e4a5b-e8f5-499a-8262-ca0d8747fb4b\", \"gen3.json\", 17054)"
            ],
            "text/plain": [
              "<IPython.core.display.Javascript object>"
            ]
          },
          "metadata": {
            "tags": []
          }
        }
      ]
    },
    {
      "cell_type": "code",
      "metadata": {
        "colab": {
          "base_uri": "https://localhost:8080/",
          "height": 17
        },
        "id": "EPFRuUZL_m28",
        "outputId": "2eace2c3-feac-48f6-8123-4125262b8def"
      },
      "source": [
        "gen4json = []\r\n",
        "\r\n",
        "for i in range(info_start, len(gen4.contents), 2):\r\n",
        "    poke_info=gen4.contents[i]\r\n",
        "    kdex=poke_info.contents[1].text.strip()\r\n",
        "    ndex=poke_info.contents[3].text.strip()\r\n",
        "    name=poke_info.contents[7].text.strip()\r\n",
        "    PokeURL=poke_info.contents[7].find('a', href = re.compile(r'[/]([a-z]|[A-Z])\\w+')).attrs['href']\r\n",
        "    type1=poke_info.contents[9].text.strip()\r\n",
        "    if len(poke_info.contents) > 10:\r\n",
        "        type2=poke_info.contents[11].text.strip()\r\n",
        "        gen4json.append({\r\n",
        "            \"kdex\": kdex,\r\n",
        "            \"ndex\": ndex,\r\n",
        "            \"name\": name,\r\n",
        "            \"type1\": type1,\r\n",
        "            \"type2\": type2,\r\n",
        "            \"URL\": PokeURL\r\n",
        "        })\r\n",
        "    else:\r\n",
        "        gen4json.append({\r\n",
        "            \"kdex\": kdex,\r\n",
        "            \"ndex\": ndex,\r\n",
        "            \"name\": name,\r\n",
        "            \"type1\": type1,\r\n",
        "            \"URL\": PokeURL\r\n",
        "        })\r\n",
        "        \r\n",
        "gen4json\r\n",
        "\r\n",
        "x = json.dumps (gen4json)\r\n",
        "y = x.encode('utf-8')\r\n",
        "with open('gen4.json', 'w') as f:\r\n",
        "  f.write(str(y))\r\n",
        "\r\n",
        "files.download('gen4.json')"
      ],
      "execution_count": null,
      "outputs": [
        {
          "output_type": "display_data",
          "data": {
            "application/javascript": [
              "\n",
              "    async function download(id, filename, size) {\n",
              "      if (!google.colab.kernel.accessAllowed) {\n",
              "        return;\n",
              "      }\n",
              "      const div = document.createElement('div');\n",
              "      const label = document.createElement('label');\n",
              "      label.textContent = `Downloading \"${filename}\": `;\n",
              "      div.appendChild(label);\n",
              "      const progress = document.createElement('progress');\n",
              "      progress.max = size;\n",
              "      div.appendChild(progress);\n",
              "      document.body.appendChild(div);\n",
              "\n",
              "      const buffers = [];\n",
              "      let downloaded = 0;\n",
              "\n",
              "      const channel = await google.colab.kernel.comms.open(id);\n",
              "      // Send a message to notify the kernel that we're ready.\n",
              "      channel.send({})\n",
              "\n",
              "      for await (const message of channel.messages) {\n",
              "        // Send a message to notify the kernel that we're ready.\n",
              "        channel.send({})\n",
              "        if (message.buffers) {\n",
              "          for (const buffer of message.buffers) {\n",
              "            buffers.push(buffer);\n",
              "            downloaded += buffer.byteLength;\n",
              "            progress.value = downloaded;\n",
              "          }\n",
              "        }\n",
              "      }\n",
              "      const blob = new Blob(buffers, {type: 'application/binary'});\n",
              "      const a = document.createElement('a');\n",
              "      a.href = window.URL.createObjectURL(blob);\n",
              "      a.download = filename;\n",
              "      div.appendChild(a);\n",
              "      a.click();\n",
              "      div.remove();\n",
              "    }\n",
              "  "
            ],
            "text/plain": [
              "<IPython.core.display.Javascript object>"
            ]
          },
          "metadata": {
            "tags": []
          }
        },
        {
          "output_type": "display_data",
          "data": {
            "application/javascript": [
              "download(\"download_fb95170d-9529-490e-ae58-04fe707133ea\", \"gen4.json\", 14462)"
            ],
            "text/plain": [
              "<IPython.core.display.Javascript object>"
            ]
          },
          "metadata": {
            "tags": []
          }
        }
      ]
    },
    {
      "cell_type": "code",
      "metadata": {
        "colab": {
          "base_uri": "https://localhost:8080/",
          "height": 17
        },
        "id": "aFcQa7GM_xLc",
        "outputId": "7b7fd07d-22b5-4e69-c571-0599fc246c39"
      },
      "source": [
        "gen5json = []\r\n",
        "\r\n",
        "for i in range(info_start, len(gen5.contents), 2):\r\n",
        "    poke_info=gen5.contents[i]\r\n",
        "    kdex=poke_info.contents[1].text.strip()\r\n",
        "    ndex=poke_info.contents[3].text.strip()\r\n",
        "    name=poke_info.contents[7].text.strip()\r\n",
        "    PokeURL=poke_info.contents[7].find('a', href = re.compile(r'[/]([a-z]|[A-Z])\\w+')).attrs['href']\r\n",
        "    type1=poke_info.contents[9].text.strip()\r\n",
        "    if len(poke_info.contents) > 10:\r\n",
        "        type2=poke_info.contents[11].text.strip()\r\n",
        "        gen5json.append({\r\n",
        "            \"kdex\": kdex,\r\n",
        "            \"ndex\": ndex,\r\n",
        "            \"name\": name,\r\n",
        "            \"type1\": type1,\r\n",
        "            \"type2\": type2,\r\n",
        "            \"URL\": PokeURL\r\n",
        "        })\r\n",
        "    else:\r\n",
        "        gen5json.append({\r\n",
        "            \"kdex\": kdex,\r\n",
        "            \"ndex\": ndex,\r\n",
        "            \"name\": name,\r\n",
        "            \"type1\": type1,\r\n",
        "            \"URL\": PokeURL\r\n",
        "        })\r\n",
        "        \r\n",
        "gen5json\r\n",
        "\r\n",
        "x = json.dumps (gen5json)\r\n",
        "y = x.encode('utf-8')\r\n",
        "with open('gen5.json', 'w') as f:\r\n",
        "  f.write(str(y))\r\n",
        "\r\n",
        "files.download('gen5.json')"
      ],
      "execution_count": null,
      "outputs": [
        {
          "output_type": "display_data",
          "data": {
            "application/javascript": [
              "\n",
              "    async function download(id, filename, size) {\n",
              "      if (!google.colab.kernel.accessAllowed) {\n",
              "        return;\n",
              "      }\n",
              "      const div = document.createElement('div');\n",
              "      const label = document.createElement('label');\n",
              "      label.textContent = `Downloading \"${filename}\": `;\n",
              "      div.appendChild(label);\n",
              "      const progress = document.createElement('progress');\n",
              "      progress.max = size;\n",
              "      div.appendChild(progress);\n",
              "      document.body.appendChild(div);\n",
              "\n",
              "      const buffers = [];\n",
              "      let downloaded = 0;\n",
              "\n",
              "      const channel = await google.colab.kernel.comms.open(id);\n",
              "      // Send a message to notify the kernel that we're ready.\n",
              "      channel.send({})\n",
              "\n",
              "      for await (const message of channel.messages) {\n",
              "        // Send a message to notify the kernel that we're ready.\n",
              "        channel.send({})\n",
              "        if (message.buffers) {\n",
              "          for (const buffer of message.buffers) {\n",
              "            buffers.push(buffer);\n",
              "            downloaded += buffer.byteLength;\n",
              "            progress.value = downloaded;\n",
              "          }\n",
              "        }\n",
              "      }\n",
              "      const blob = new Blob(buffers, {type: 'application/binary'});\n",
              "      const a = document.createElement('a');\n",
              "      a.href = window.URL.createObjectURL(blob);\n",
              "      a.download = filename;\n",
              "      div.appendChild(a);\n",
              "      a.click();\n",
              "      div.remove();\n",
              "    }\n",
              "  "
            ],
            "text/plain": [
              "<IPython.core.display.Javascript object>"
            ]
          },
          "metadata": {
            "tags": []
          }
        },
        {
          "output_type": "display_data",
          "data": {
            "application/javascript": [
              "download(\"download_0d6c42ca-d540-4fc0-848c-10098a8846c8\", \"gen5.json\", 20157)"
            ],
            "text/plain": [
              "<IPython.core.display.Javascript object>"
            ]
          },
          "metadata": {
            "tags": []
          }
        }
      ]
    },
    {
      "cell_type": "code",
      "metadata": {
        "colab": {
          "base_uri": "https://localhost:8080/",
          "height": 17
        },
        "id": "UaFmA6dK_6P-",
        "outputId": "6d5b716d-1608-4e70-8790-0c9f8b127dc4"
      },
      "source": [
        "gen6json = []\r\n",
        "\r\n",
        "for i in range(info_start, len(gen6.contents), 2):\r\n",
        "    poke_info=gen6.contents[i]\r\n",
        "    kdex=poke_info.contents[1].text.strip()\r\n",
        "    ndex=poke_info.contents[3].text.strip()\r\n",
        "    name=poke_info.contents[7].text.strip()\r\n",
        "    PokeURL=poke_info.contents[7].find('a', href = re.compile(r'[/]([a-z]|[A-Z])\\w+')).attrs['href']\r\n",
        "    type1=poke_info.contents[9].text.strip()\r\n",
        "    if len(poke_info.contents) > 10:\r\n",
        "        type2=poke_info.contents[11].text.strip()\r\n",
        "        gen6json.append({\r\n",
        "            \"kdex\": kdex,\r\n",
        "            \"ndex\": ndex,\r\n",
        "            \"name\": name,\r\n",
        "            \"type1\": type1,\r\n",
        "            \"type2\": type2,\r\n",
        "            \"URL\": PokeURL\r\n",
        "        })\r\n",
        "    else:\r\n",
        "        gen6json.append({\r\n",
        "            \"kdex\": kdex,\r\n",
        "            \"ndex\": ndex,\r\n",
        "            \"name\": name,\r\n",
        "            \"type1\": type1,\r\n",
        "            \"URL\": PokeURL\r\n",
        "        })\r\n",
        "        \r\n",
        "gen6json\r\n",
        "\r\n",
        "x = json.dumps (gen6json)\r\n",
        "y = x.encode('utf-8')\r\n",
        "with open('gen6.json', 'w') as f:\r\n",
        "  f.write(str(y))\r\n",
        "\r\n",
        "files.download('gen6.json')"
      ],
      "execution_count": null,
      "outputs": [
        {
          "output_type": "display_data",
          "data": {
            "application/javascript": [
              "\n",
              "    async function download(id, filename, size) {\n",
              "      if (!google.colab.kernel.accessAllowed) {\n",
              "        return;\n",
              "      }\n",
              "      const div = document.createElement('div');\n",
              "      const label = document.createElement('label');\n",
              "      label.textContent = `Downloading \"${filename}\": `;\n",
              "      div.appendChild(label);\n",
              "      const progress = document.createElement('progress');\n",
              "      progress.max = size;\n",
              "      div.appendChild(progress);\n",
              "      document.body.appendChild(div);\n",
              "\n",
              "      const buffers = [];\n",
              "      let downloaded = 0;\n",
              "\n",
              "      const channel = await google.colab.kernel.comms.open(id);\n",
              "      // Send a message to notify the kernel that we're ready.\n",
              "      channel.send({})\n",
              "\n",
              "      for await (const message of channel.messages) {\n",
              "        // Send a message to notify the kernel that we're ready.\n",
              "        channel.send({})\n",
              "        if (message.buffers) {\n",
              "          for (const buffer of message.buffers) {\n",
              "            buffers.push(buffer);\n",
              "            downloaded += buffer.byteLength;\n",
              "            progress.value = downloaded;\n",
              "          }\n",
              "        }\n",
              "      }\n",
              "      const blob = new Blob(buffers, {type: 'application/binary'});\n",
              "      const a = document.createElement('a');\n",
              "      a.href = window.URL.createObjectURL(blob);\n",
              "      a.download = filename;\n",
              "      div.appendChild(a);\n",
              "      a.click();\n",
              "      div.remove();\n",
              "    }\n",
              "  "
            ],
            "text/plain": [
              "<IPython.core.display.Javascript object>"
            ]
          },
          "metadata": {
            "tags": []
          }
        },
        {
          "output_type": "display_data",
          "data": {
            "application/javascript": [
              "download(\"download_ad41b920-5a57-4efb-a501-08f66147d3da\", \"gen6.json\", 9067)"
            ],
            "text/plain": [
              "<IPython.core.display.Javascript object>"
            ]
          },
          "metadata": {
            "tags": []
          }
        }
      ]
    },
    {
      "cell_type": "code",
      "metadata": {
        "colab": {
          "base_uri": "https://localhost:8080/",
          "height": 17
        },
        "id": "IiN5E1lSAJXw",
        "outputId": "49bc27f9-e793-4aba-df1e-736d7bab3846"
      },
      "source": [
        "gen7json = []\r\n",
        "\r\n",
        "for i in range(info_start, len(gen7.contents), 2):\r\n",
        "    poke_info=gen7.contents[i]\r\n",
        "    kdex=poke_info.contents[1].text.strip()\r\n",
        "    ndex=poke_info.contents[3].text.strip()\r\n",
        "    name=poke_info.contents[7].text.strip()\r\n",
        "    PokeURL=poke_info.contents[7].find('a', href = re.compile(r'[/]([a-z]|[A-Z])\\w+')).attrs['href']\r\n",
        "    type1=poke_info.contents[9].text.strip()\r\n",
        "    if len(poke_info.contents) > 10:\r\n",
        "        type2=poke_info.contents[11].text.strip()\r\n",
        "        gen7json.append({\r\n",
        "            \"kdex\": kdex,\r\n",
        "            \"ndex\": ndex,\r\n",
        "            \"name\": name,\r\n",
        "            \"type1\": type1,\r\n",
        "            \"type2\": type2,\r\n",
        "            \"URL\": PokeURL\r\n",
        "        })\r\n",
        "    else:\r\n",
        "        gen7json.append({\r\n",
        "            \"kdex\": kdex,\r\n",
        "            \"ndex\": ndex,\r\n",
        "            \"name\": name,\r\n",
        "            \"type1\": type1,\r\n",
        "            \"URL\": PokeURL\r\n",
        "        })\r\n",
        "        \r\n",
        "gen7json\r\n",
        "\r\n",
        "x = json.dumps (gen7json)\r\n",
        "y = x.encode('utf-8')\r\n",
        "with open('gen7.json', 'w') as f:\r\n",
        "  f.write(str(y))\r\n",
        "\r\n",
        "files.download('gen7.json')"
      ],
      "execution_count": null,
      "outputs": [
        {
          "output_type": "display_data",
          "data": {
            "application/javascript": [
              "\n",
              "    async function download(id, filename, size) {\n",
              "      if (!google.colab.kernel.accessAllowed) {\n",
              "        return;\n",
              "      }\n",
              "      const div = document.createElement('div');\n",
              "      const label = document.createElement('label');\n",
              "      label.textContent = `Downloading \"${filename}\": `;\n",
              "      div.appendChild(label);\n",
              "      const progress = document.createElement('progress');\n",
              "      progress.max = size;\n",
              "      div.appendChild(progress);\n",
              "      document.body.appendChild(div);\n",
              "\n",
              "      const buffers = [];\n",
              "      let downloaded = 0;\n",
              "\n",
              "      const channel = await google.colab.kernel.comms.open(id);\n",
              "      // Send a message to notify the kernel that we're ready.\n",
              "      channel.send({})\n",
              "\n",
              "      for await (const message of channel.messages) {\n",
              "        // Send a message to notify the kernel that we're ready.\n",
              "        channel.send({})\n",
              "        if (message.buffers) {\n",
              "          for (const buffer of message.buffers) {\n",
              "            buffers.push(buffer);\n",
              "            downloaded += buffer.byteLength;\n",
              "            progress.value = downloaded;\n",
              "          }\n",
              "        }\n",
              "      }\n",
              "      const blob = new Blob(buffers, {type: 'application/binary'});\n",
              "      const a = document.createElement('a');\n",
              "      a.href = window.URL.createObjectURL(blob);\n",
              "      a.download = filename;\n",
              "      div.appendChild(a);\n",
              "      a.click();\n",
              "      div.remove();\n",
              "    }\n",
              "  "
            ],
            "text/plain": [
              "<IPython.core.display.Javascript object>"
            ]
          },
          "metadata": {
            "tags": []
          }
        },
        {
          "output_type": "display_data",
          "data": {
            "application/javascript": [
              "download(\"download_7eb9dff4-6839-4555-926c-44c358c2e061\", \"gen7.json\", 11316)"
            ],
            "text/plain": [
              "<IPython.core.display.Javascript object>"
            ]
          },
          "metadata": {
            "tags": []
          }
        }
      ]
    },
    {
      "cell_type": "code",
      "metadata": {
        "colab": {
          "base_uri": "https://localhost:8080/",
          "height": 17
        },
        "id": "8790AwFbARPw",
        "outputId": "46b23c69-8c02-4ebd-e596-c7a2af73a740"
      },
      "source": [
        "gen8json = []\r\n",
        "\r\n",
        "for i in range(info_start, len(gen8.contents), 2):\r\n",
        "    poke_info=gen8.contents[i]\r\n",
        "    kdex=poke_info.contents[1].text.strip()\r\n",
        "    ndex=poke_info.contents[3].text.strip()\r\n",
        "    name=poke_info.contents[7].text.strip()\r\n",
        "    PokeURL=poke_info.contents[7].find('a', href = re.compile(r'[/]([a-z]|[A-Z])\\w+')).attrs['href']\r\n",
        "    type1=poke_info.contents[9].text.strip()\r\n",
        "    if len(poke_info.contents) > 10:\r\n",
        "        type2=poke_info.contents[11].text.strip()\r\n",
        "        gen8json.append({\r\n",
        "            \"kdex\": kdex,\r\n",
        "            \"ndex\": ndex,\r\n",
        "            \"name\": name,\r\n",
        "            \"type1\": type1,\r\n",
        "            \"type2\": type2,\r\n",
        "            \"URL\": PokeURL\r\n",
        "        })\r\n",
        "    else:\r\n",
        "        gen8json.append({\r\n",
        "            \"kdex\": kdex,\r\n",
        "            \"ndex\": ndex,\r\n",
        "            \"name\": name,\r\n",
        "            \"type1\": type1,\r\n",
        "            \"URL\": PokeURL\r\n",
        "        })\r\n",
        "        \r\n",
        "gen8json\r\n",
        "\r\n",
        "x = json.dumps (gen8json)\r\n",
        "y = x.encode('utf-8')\r\n",
        "with open('gen8.json', 'w') as f:\r\n",
        "  f.write(str(y))\r\n",
        "\r\n",
        "files.download('gen8.json')"
      ],
      "execution_count": null,
      "outputs": [
        {
          "output_type": "display_data",
          "data": {
            "application/javascript": [
              "\n",
              "    async function download(id, filename, size) {\n",
              "      if (!google.colab.kernel.accessAllowed) {\n",
              "        return;\n",
              "      }\n",
              "      const div = document.createElement('div');\n",
              "      const label = document.createElement('label');\n",
              "      label.textContent = `Downloading \"${filename}\": `;\n",
              "      div.appendChild(label);\n",
              "      const progress = document.createElement('progress');\n",
              "      progress.max = size;\n",
              "      div.appendChild(progress);\n",
              "      document.body.appendChild(div);\n",
              "\n",
              "      const buffers = [];\n",
              "      let downloaded = 0;\n",
              "\n",
              "      const channel = await google.colab.kernel.comms.open(id);\n",
              "      // Send a message to notify the kernel that we're ready.\n",
              "      channel.send({})\n",
              "\n",
              "      for await (const message of channel.messages) {\n",
              "        // Send a message to notify the kernel that we're ready.\n",
              "        channel.send({})\n",
              "        if (message.buffers) {\n",
              "          for (const buffer of message.buffers) {\n",
              "            buffers.push(buffer);\n",
              "            downloaded += buffer.byteLength;\n",
              "            progress.value = downloaded;\n",
              "          }\n",
              "        }\n",
              "      }\n",
              "      const blob = new Blob(buffers, {type: 'application/binary'});\n",
              "      const a = document.createElement('a');\n",
              "      a.href = window.URL.createObjectURL(blob);\n",
              "      a.download = filename;\n",
              "      div.appendChild(a);\n",
              "      a.click();\n",
              "      div.remove();\n",
              "    }\n",
              "  "
            ],
            "text/plain": [
              "<IPython.core.display.Javascript object>"
            ]
          },
          "metadata": {
            "tags": []
          }
        },
        {
          "output_type": "display_data",
          "data": {
            "application/javascript": [
              "download(\"download_ef64f5fb-83c0-49f0-a8bc-291cdebfaa81\", \"gen8.json\", 11344)"
            ],
            "text/plain": [
              "<IPython.core.display.Javascript object>"
            ]
          },
          "metadata": {
            "tags": []
          }
        }
      ]
    },
    {
      "cell_type": "code",
      "metadata": {
        "id": "HOms6Kh9mQW0"
      },
      "source": [
        "#Scraping news site"
      ],
      "execution_count": null,
      "outputs": []
    },
    {
      "cell_type": "code",
      "metadata": {
        "colab": {
          "base_uri": "https://localhost:8080/"
        },
        "id": "lOoNGCqVGJ-A",
        "outputId": "47262ec1-c114-403b-e3ed-4c2986ed8270"
      },
      "source": [
        "parameters = {\r\n",
        "    'domains' : 'businessinsider.com',\r\n",
        "    'apiKey' : '740b3c118a214276b28f639325f32d44',\r\n",
        "    'from' : '2021-03-11',\r\n",
        "    'to' : '2021-03-12',\r\n",
        "}\r\n",
        "\r\n",
        "newsSet = requests.get('http://newsapi.org/v2/everything?', params = parameters)\r\n",
        "newsSet = newsSet.json()\r\n",
        "newsSet.keys()\r\n",
        "\r\n",
        "businessNews = newsSet['articles']\r\n",
        "\r\n",
        "businessNews"
      ],
      "execution_count": null,
      "outputs": [
        {
          "output_type": "execute_result",
          "data": {
            "text/plain": [
              "[{'author': 'insider@insider.com (Melanie Weir)',\n",
              "  'content': 'HBO\\'s streaming service HBO Max has tons of hit series people love, like \"Friends,\" \"Rick and Morty,\" and \"The Bachelor,\" plus great originals like \"Euphoria,\" \"Game of Thrones,\" and \"Last Week Tonig… [+1129 chars]',\n",
              "  'description': 'You can get HBO Max on an Amazon Fire Stick, and all other Amazon devices, simply by downloading the app and logging in.',\n",
              "  'publishedAt': '2021-03-12T23:27:43Z',\n",
              "  'source': {'id': 'business-insider', 'name': 'Business Insider'},\n",
              "  'title': \"How to get HBO Max on an Amazon Fire Stick and watch shows like 'Game of Thrones' or 'Friends'\",\n",
              "  'url': 'https://www.businessinsider.com/how-to-get-hbo-max-on-amazon-fire-stick',\n",
              "  'urlToImage': 'https://i.insider.com/604bd27e10c8760018b93066?width=1200&format=jpeg'},\n",
              " {'author': 'Joseph Zeballos-Roig',\n",
              "  'content': 'House Democrats said on Friday afternoon they have officially started work on an infrastructure package, kicking off what appears likely to be a lengthy stretch of negotiations on a multitrillion-dol… [+2664 chars]',\n",
              "  'description': 'Summary List PlacementHouse Democrats said on Friday afternoon they have officially started work on an infrastructure package, kicking off what appears likely to be a lengthy stretch of negotiations on a multitrillion-dollar economic recovery bill.\\n\"Building …',\n",
              "  'publishedAt': '2021-03-12T23:15:23Z',\n",
              "  'source': {'id': 'business-insider', 'name': 'Business Insider'},\n",
              "  'title': \"House Democrats kick off work on an infrastructure package after enacting Biden's stimulus plan\",\n",
              "  'url': 'https://www.businessinsider.com/democrats-infrastructure-package-jobs-bill-after-biden-stimulus-bipartisan-talks-2021-3',\n",
              "  'urlToImage': 'https://i.insider.com/6048f2749942cf001865d8e4?width=1200&format=jpeg'},\n",
              " {'author': 'Tanza Loudenback',\n",
              "  'content': 'If you buy through our links, we may earn money from affiliate partners. Learn more.\\r\\nPeople are already seeing the third stimulus check appear in their bank accounts, just one day after President Jo… [+2077 chars]',\n",
              "  'description': 'Summary List Placement<ul>\\n<li>The third stimulus check will either be deposited into your bank account or mailed to you.</li>\\n<li>How you get the payment depends on what information the IRS has on file.\\xa0</li>\\n<li>The IRS may send prepaid debit cards to some …',\n",
              "  'publishedAt': '2021-03-12T23:05:35Z',\n",
              "  'source': {'id': 'business-insider', 'name': 'Business Insider'},\n",
              "  'title': \"Here's how you'll get the 3rd stimulus check if you qualify\",\n",
              "  'url': 'https://www.businessinsider.com/personal-finance/how-will-i-get-third-stimulus-check-2021-3',\n",
              "  'urlToImage': 'https://i.insider.com/604be44110c8760018b930d3?width=1200&format=jpeg'},\n",
              " {'author': 'Charles Davis',\n",
              "  'content': \"New York's two Democratic US senators said Friday that Gov. Andrew Cuomo should step down amid allegations from six women that he engaged in sexual harassment.\\r\\nIn a joint statement, Senate Majority … [+1331 chars]\",\n",
              "  'description': \"Summary List PlacementNew York's two Democratic US senators said Friday that Gov. Andrew Cuomo should step down amid allegations from six women that he engaged in sexual harassment.\\nIn a joint statement, Senate Majority Leader Chuck Schumer and Sen. Kirsten G…\",\n",
              "  'publishedAt': '2021-03-12T23:04:00Z',\n",
              "  'source': {'id': 'business-insider', 'name': 'Business Insider'},\n",
              "  'title': \"New York Senators Chuck Schumer and Kirsten Gillibrand say Gov. Andrew Cuomo 'should resign'\",\n",
              "  'url': 'https://www.businessinsider.com/new-york-senators-schumer-gillibrand-say-cuomo-should-resign-2021-3',\n",
              "  'urlToImage': 'https://i.insider.com/604bf0b6fea127001886a9a8?width=1200&format=jpeg'},\n",
              " {'author': 'Ryan Ariano',\n",
              "  'content': 'The Apple One bundle can combine up to six of its services into one subscription, and give you a discounted price on all of them. This allows you to subscribe to Apple Music, Apple TV Plus, Apple Arc… [+2411 chars]',\n",
              "  'description': 'Summary List PlacementThe Apple One bundle can combine up to six of its services into one subscription, and give you a discounted price on all of them. This allows you to subscribe to Apple Music, Apple TV Plus, Apple Arcade, and iCloud, plus you can get Appl…',\n",
              "  'publishedAt': '2021-03-12T22:55:26Z',\n",
              "  'source': {'id': 'business-insider', 'name': 'Business Insider'},\n",
              "  'title': \"How to cancel an Apple One subscription once you're done with the bundled subscription service\",\n",
              "  'url': 'https://www.businessinsider.com/how-to-cancel-apple-one',\n",
              "  'urlToImage': 'https://i.insider.com/604befb010c8760018b93108?width=1200&format=jpeg'},\n",
              " {'author': 'Liz Knueven',\n",
              "  'content': 'A savings account is a good place to save money for short-term goals like a down payment, a car, a vacation, or an emergency fund.\\r\\nBut a high-yield savings account is a better place.\\r\\nHigh-yield sav… [+2839 chars]',\n",
              "  'description': \"Summary List Placement<ul>\\n<li>\\nHigh-yield savings accounts and standard savings accounts are more similar than they are different.\\xa0</li>\\n<li>They're both offered by banks, federally regulated, and liquid.</li>\\n<li>The main difference is that high-yield savin…\",\n",
              "  'publishedAt': '2021-03-12T22:37:42Z',\n",
              "  'source': {'id': 'business-insider', 'name': 'Business Insider'},\n",
              "  'title': 'The only difference between regular and high-yield savings that matters is the one that earns you 10 times more on your money',\n",
              "  'url': 'https://www.businessinsider.com/personal-finance/high-yield-savings-accounts-vs-regular-savings',\n",
              "  'urlToImage': 'https://i.insider.com/5deae9b6fd9db25359473965?width=1200&format=jpeg'},\n",
              " {'author': 'ehoffman@businessinsider.com (Insider Reviews Team,Walmart)',\n",
              "  'content': None,\n",
              "  'description': \"Walmart+ subscribers typically receive free shipping on thousands of products, which is especially handy during the retailer's rollback events.\",\n",
              "  'publishedAt': '2021-03-12T22:34:30Z',\n",
              "  'source': {'id': 'business-insider', 'name': 'Business Insider'},\n",
              "  'title': \"Walmart+ members can currently get free shipping on dozens of products during Walmart's Spring forward Rollback event\",\n",
              "  'url': 'https://www.businessinsider.com/walmart-plus-spring-forward-rollback',\n",
              "  'urlToImage': 'https://i.insider.com/604be4aa10c8760018b930d8?width=1200&format=jpeg'},\n",
              " {'author': 'ssheth@businessinsider.com (Sonam Sheth,Jacob Shamsian)',\n",
              "  'content': \"After a months-long battle with Donald Trump over his closely held tax returns, the Manhattan district attorney's office may finally be in the end stages of its wide-ranging investigation into the fo… [+9149 chars]\",\n",
              "  'description': \"The Manhattan DA's investigation into Trump has taken off since he left office, and legal experts think charges could be filed in a matter of months.\",\n",
              "  'publishedAt': '2021-03-12T22:33:20Z',\n",
              "  'source': {'id': 'business-insider', 'name': 'Business Insider'},\n",
              "  'title': \"Manhattan prosecutors could be in the final stages of their wide-ranging investigation into Trump's finances\",\n",
              "  'url': 'https://www.businessinsider.com/manhattan-prosecutors-may-be-in-end-stages-of-trump-probe-2021-3',\n",
              "  'urlToImage': 'https://i.insider.com/6027f671b3c2a800183ccc37?width=1200&format=jpeg'},\n",
              " {'author': 'Allana Akhtar',\n",
              "  'content': \"Amazon has stopped selling books that frame LGBTQ+ identity as a mental illness.\\xa0\\r\\nBrian Huseman, Amazon's vice president of public policy, wrote a letter to four Republican senators confirming the o… [+2283 chars]\",\n",
              "  'description': 'Summary List PlacementAmazon has stopped selling books that frame LGBTQ+ identity as a mental illness.\\xa0\\nBrian Huseman, Amazon\\'s vice president of public policy, wrote a letter to four Republican senators confirming the online retailer stopped selling \"When Ha…',\n",
              "  'publishedAt': '2021-03-12T22:17:15Z',\n",
              "  'source': {'id': 'business-insider', 'name': 'Business Insider'},\n",
              "  'title': 'Amazon has stopped selling books that frame LGBTQ+ identity as a mental illness (AMZN)',\n",
              "  'url': 'https://www.businessinsider.com/amazon-stopped-selling-books-framing-lgbtq-identity-as-mental-illness-2021-3',\n",
              "  'urlToImage': 'https://i.insider.com/604bdaa4fea127001886a92e?width=1200&format=jpeg'},\n",
              " {'author': 'David McMillin',\n",
              "  'content': 'Personal Finance Insider writes about products, strategies, and tips to help you make smart decisions with your money. We may receive a small commission from our partners, like American Express, but … [+7161 chars]',\n",
              "  'description': \"Summary List Placement\\n<ul>\\n<li>The waitlist is officially open for the first-ever Bitcoin rewards credit card from BlockFi.</li>\\n<li>There's a $200 annual fee and few benefits — unless you plan to invest in and trade cryptocurrency.</li>\\n<li>Deciding whether…\",\n",
              "  'publishedAt': '2021-03-12T21:57:46Z',\n",
              "  'source': {'id': 'business-insider', 'name': 'Business Insider'},\n",
              "  'title': \"The BlockFi Bitcoin credit card waitlist is open — here's what to consider if you're thinking of applying\",\n",
              "  'url': 'https://www.businessinsider.com/personal-finance/blockfi-bitcoin-credit-card-waitlist-open-should-you-apply-2021-3',\n",
              "  'urlToImage': 'https://i.insider.com/604a25c89942cf001865dc1a?width=1200&format=jpeg'},\n",
              " {'author': 'insider@insider.com (Christopher Woody)',\n",
              "  'content': 'US Air Force B-1B Lancer bombers that deployed to Norway in late February have already demonstrated their reach in the air around Europe, and this week they tested their ability to put bombs on targe… [+5654 chars]',\n",
              "  'description': 'US bombers deployed to Norway for the first time ever in late February. This week, they trained with ground troops to conduct close air support.',\n",
              "  'publishedAt': '2021-03-12T21:42:34Z',\n",
              "  'source': {'id': 'business-insider', 'name': 'Business Insider'},\n",
              "  'title': 'SEALs, Marines, and Norwegian soldiers teamed up with B-1B bombers to practice dropping bombs on new terrain',\n",
              "  'url': 'https://www.businessinsider.com/air-force-bombers-train-airstrikes-with-marines-seals-in-norway-2021-3',\n",
              "  'urlToImage': 'https://i.insider.com/604bc071fea127001886a84b?width=1200&format=jpeg'},\n",
              " {'author': 'kwebb@businessinsider.com (Kevin Webb)',\n",
              "  'content': 'If you buy through our links, we may earn money from affiliate partners. Learn more.\\r\\nChampions Juan Francisco Estrada and Román \"Chocolatito\" González will fight to unify the WBC and WBA super flywe… [+2599 chars]',\n",
              "  'description': 'Juan Francisco Estrada and Román \"Chocolatito\" González will fight to unify the WBC and WBA super flyweight titles in a rematch for the ages.',\n",
              "  'publishedAt': '2021-03-12T21:33:35Z',\n",
              "  'source': {'id': 'business-insider', 'name': 'Business Insider'},\n",
              "  'title': 'How to watch Estrada vs. Chocolatito 2 on Saturday when the super flyweight champions meet in a unification rematch',\n",
              "  'url': 'https://www.businessinsider.com/how-to-watch-estrada-vs-chocolatito-2021-3',\n",
              "  'urlToImage': 'https://i.insider.com/604bd95c10c8760018b93099?width=1200&format=jpeg'},\n",
              " {'author': 'Blake Dodge',\n",
              "  'content': 'Amazon is about to launch its \\r\\n telehealth offering for other employers and for more Amazon employees throughout the country, two people familiar with the matter told Insider. They were not authoriz… [+6754 chars]',\n",
              "  'description': 'Summary List PlacementAmazon is about to launch its telehealth offering for other employers and for more Amazon employees throughout the country, two people familiar with the matter told Insider. They were not authorized to speak to the press.\\nThrough a mobil…',\n",
              "  'publishedAt': '2021-03-12T21:26:15Z',\n",
              "  'source': {'id': 'business-insider', 'name': 'Business Insider'},\n",
              "  'title': 'Amazon is gearing up to launch its telehealth business for other companies and the rest of its US employees',\n",
              "  'url': 'https://www.businessinsider.com/amazon-care-nears-national-launch-telehealth-2021-3',\n",
              "  'urlToImage': 'https://i.insider.com/5fdb62f8c910a400192e805c?width=1200&format=jpeg'},\n",
              " {'author': 'Tanza Loudenback and Stephanie Hallett',\n",
              "  'content': 'Personal Finance Insider writes about products, strategies, and tips to help you make smart decisions with your money. We may receive a small commission from our partners, like American Express, but … [+3572 chars]',\n",
              "  'description': 'Summary List Placement\\nThe best tax software for small business owners\\n<ul>\\n<li>TaxAct: Best tax software for small business owners overall</li>\\n<li>TurboTax: Best tax software for small businesses that use QuickBooks</li>\\n<li>BlockAdvisors: Best tax software…',\n",
              "  'publishedAt': '2021-03-12T21:25:36Z',\n",
              "  'source': {'id': 'business-insider', 'name': 'Business Insider'},\n",
              "  'title': 'Best tax software for small business owners: How TurboTax, TaxAct, and BlockAdvisors compare',\n",
              "  'url': 'https://www.businessinsider.com/personal-finance/best-tax-software-small-business-owners',\n",
              "  'urlToImage': 'https://i.insider.com/5e3c4a59e35bab01bf55c685?width=1200&format=jpeg'},\n",
              " {'author': 'Camila DeChalus and Kimberly Leonard',\n",
              "  'content': 'Doctors and other healthcare workers are finding themselves straddling a confusing line between making sure no COVID vaccine goes to waste, and committing potential crimes if they give away unclaimed… [+9668 chars]',\n",
              "  'description': \"Summary List PlacementDoctors and other healthcare workers are finding themselves straddling a confusing line between making sure no COVID vaccine goes to waste, and committing potential crimes if they give away unclaimed shots.\\xa0\\nWhen people don't show up for…\",\n",
              "  'publishedAt': '2021-03-12T21:15:49Z',\n",
              "  'source': {'id': 'business-insider', 'name': 'Business Insider'},\n",
              "  'title': 'Is it a crime to give away leftover COVID shots? Doctors and other healthcare workers fear legal consequences as they wait for Justice Department guidance.',\n",
              "  'url': 'https://www.businessinsider.com/is-it-crime-to-give-away-unclaimed-covid-shots-doctors-dilema-2021-3',\n",
              "  'urlToImage': 'https://i.insider.com/604bc5bd10c8760018b9300d?width=1200&format=jpeg'},\n",
              " {'author': 'wdaniel@businessinsider.com (Will Daniel)',\n",
              "  'content': 'Patrick Mahomes says it was a \"no brainer\" for him to get into non-fungible tokens given the recent rise of the digital assets.\\r\\nThe star NFL quarterback sat down with CNBC on Friday to discuss \"The … [+1832 chars]',\n",
              "  'description': 'Kansas City Chiefs star quarterback Patrick Mahomes is launching the \"Museum of Mahomes\" NFT sale and will donate part of the profit to charity.',\n",
              "  'publishedAt': '2021-03-12T21:10:23Z',\n",
              "  'source': {'id': 'business-insider', 'name': 'Business Insider'},\n",
              "  'title': \"Star NFL QB Patrick Mahomes says it was a 'no brainer' for him to get into NFTs\",\n",
              "  'url': 'https://www.businessinsider.com/patrick-mahomes-nfl-qb-no-brainer-nfts-digital-memorabilia-2021-3',\n",
              "  'urlToImage': 'https://i.insider.com/604bcb9a10c8760018b93031?width=1200&format=jpeg'},\n",
              " {'author': 'mfox@businessinsider.com (Matthew Fox)',\n",
              "  'content': 'The Dow Jones industrial average closed at a record high on Friday while tech stocks fell as a rise in interest rates fueled a continued rotation into cyclical stocks poised to benefit from a reopene… [+1523 chars]',\n",
              "  'description': 'The reflation trade continued on Friday as rising interest rates spurred investors to sell technology stocks and buy cyclical stocks.',\n",
              "  'publishedAt': '2021-03-12T21:07:40Z',\n",
              "  'source': {'id': 'business-insider', 'name': 'Business Insider'},\n",
              "  'title': \"Dow closes at record high, tech falters as traders mull the impact of Biden's stimulus\",\n",
              "  'url': 'https://www.businessinsider.com/stock-market-news-today-tech-value-rotation-dow-record-stimulus-2021-3',\n",
              "  'urlToImage': 'https://i.insider.com/602baf942edd0f001a8d5d5d?width=1200&format=jpeg'},\n",
              " {'author': 'Ben Gilbert',\n",
              "  'content': 'Founder and former Theranos CEO Elizabeth Holmes is pregnant, according to new court documents.\\r\\nHolmes expects to give birth in July, and is requesting a delay to her federal trial, according to new… [+1257 chars]',\n",
              "  'description': \"Summary List PlacementFounder and former Theranos CEO Elizabeth Holmes is pregnant, according to new court documents.\\nHolmes expects to give birth in July, and is requesting a delay to her federal trial, according to newly filed court documents. Both Holmes' …\",\n",
              "  'publishedAt': '2021-03-12T21:02:20Z',\n",
              "  'source': {'id': 'business-insider', 'name': 'Business Insider'},\n",
              "  'title': 'Former Theranos CEO Elizabeth Holmes is pregnant, and is requesting her federal trial be delayed again',\n",
              "  'url': 'https://www.businessinsider.com/theranos-elizabeth-holmes-pregnant-trial-delay-request-2021-3',\n",
              "  'urlToImage': 'https://i.insider.com/604bd08410c8760018b93051?width=1200&format=jpeg'},\n",
              " {'author': 'Sponsor Post',\n",
              "  'content': \"Nationwide, nearly 80% of employees have something to say: They're frustrated.\\xa0Very\\xa0frustrated.\\r\\nNew research conducted by OnePoll reveals the source of their unhappiness, and while it's not likely w… [+4743 chars]\",\n",
              "  'description': \"Summary List PlacementNationwide, nearly 80% of employees have something to say: They're frustrated.\\xa0Very\\xa0frustrated.\\nNew research conducted by OnePoll reveals the source of their unhappiness, and while it's not likely what you'd expect, you're likely to rela…\",\n",
              "  'publishedAt': '2021-03-12T21:00:00Z',\n",
              "  'source': {'id': 'business-insider', 'name': 'Business Insider'},\n",
              "  'title': 'Why upgrading your workplace technology is the smartest investment for any business',\n",
              "  'url': 'https://www.businessinsider.com/sc/the-benefits-of-upgrading-your-workplace-technology-2021-3',\n",
              "  'urlToImage': 'https://i.insider.com/604793f244d8e300117b9cea?width=1200&format=jpeg'},\n",
              " {'author': 'ktaylor@businessinsider.com (Kate Taylor)',\n",
              "  'content': \"Subway is shifting some of its workforce to Miami, Florida, where the chain's CEO owns a home.\\r\\nThe chain told employees that it was moving several business units to Florida on Thursday, the New York… [+2179 chars]\",\n",
              "  'description': 'Subway is moving jobs to Miami, Florida, which has become a hotspot for tech and finance companies in the pandemic.',\n",
              "  'publishedAt': '2021-03-12T20:58:22Z',\n",
              "  'source': {'id': 'business-insider', 'name': 'Business Insider'},\n",
              "  'title': \"Subway moves jobs from Connecticut headquarters to Miami, where the sandwich chain's CEO owns a home\",\n",
              "  'url': 'https://www.businessinsider.com/subway-moves-jobs-from-connecticut-headquarters-to-miami-2021-3',\n",
              "  'urlToImage': 'https://i.insider.com/5f7596f974fe5b0018a8e6ae?width=1200&format=jpeg'}]"
            ]
          },
          "metadata": {
            "tags": []
          },
          "execution_count": 22
        }
      ]
    },
    {
      "cell_type": "code",
      "metadata": {
        "colab": {
          "base_uri": "https://localhost:8080/"
        },
        "id": "IyKjx8VhHrR7",
        "outputId": "2b731e5b-05bc-493f-ca4f-4ca7ea32da99"
      },
      "source": [
        "businessInsider = []\r\n",
        "\r\n",
        "for i in range(len(businessNews)):\r\n",
        "    article = requests.get(businessNews[i]['url'])\r\n",
        "    site = BeautifulSoup(article.content, 'html.parser')\r\n",
        "\r\n",
        "    paragraphs = site.find_all(\"p\")\r\n",
        "    fullText = paragraphs[5].get_text()\r\n",
        "    fullText += paragraphs[6].get_text()\r\n",
        "    fullText += paragraphs[7].get_text()\r\n",
        "    fullText += paragraphs[8].get_text()\r\n",
        "    date = businessNews[i]['publishedAt']\r\n",
        "    title = businessNews[i]['title']\r\n",
        "    fullArticle = fullText\r\n",
        "    author = businessNews[i]['author']\r\n",
        "\r\n",
        "    businessInsider.append({\r\n",
        "            \"date\": date,\r\n",
        "            \"title\": title,\r\n",
        "            \"fullArticle\": fullText,\r\n",
        "            \"author\": author\r\n",
        "        })\r\n",
        "\r\n",
        "businessInsider"
      ],
      "execution_count": null,
      "outputs": [
        {
          "output_type": "execute_result",
          "data": {
            "text/plain": [
              "[{'author': 'insider@insider.com (Melanie Weir)',\n",
              "  'date': '2021-03-12T23:27:43Z',\n",
              "  'fullArticle': 'HBO\\'s streaming service HBO Max has tons of hit series people love, like \"Friends,\" \"Rick and Morty,\" and \"The Bachelor,\" plus great originals like \"Euphoria,\" \"Game of Thrones,\" and \"Last Week Tonight with John Oliver.\" \\n                          \\nHBO Max\\n also offers tons of films to choose from on movie night — there\\'s something for everyone.Although Amazon experienced some difficulty partnering with competing streaming services, HBO Max finally arrived on Amazon devices in November 2020.You can download now HBO Max on Amazon Fire TVs, Fire Tablets, Fire Cubes, and Amazon Fire Sticks — here\\'s how.Once you\\'ve got HBO Max on your Amazon device, check out our guides on how to make the most of the service\\'s features.',\n",
              "  'title': \"How to get HBO Max on an Amazon Fire Stick and watch shows like 'Game of Thrones' or 'Friends'\"},\n",
              " {'author': 'Joseph Zeballos-Roig',\n",
              "  'date': '2021-03-12T23:15:23Z',\n",
              "  'fullArticle': 'House Democrats said on Friday afternoon they have officially started work on an infrastructure package, kicking off what appears likely to be a lengthy stretch of negotiations on a multitrillion-dollar economic recovery bill.\"Building our transportation system has long been bipartisan,\" Speaker Nancy Pelosi said in a statement. \"It is our hope that spirit will prevail as we address other critical needs in energy and broadband, education and housing, water systems and other priorities.\"She went on: \"As we engage in these job-creating initiatives, we must discuss their impact on the federal budget, on creating economic growth and on preserving our planet.\"Rep. Richard Neal of Massachusetts, chair of the House Ways and Means Committee, said in a statement that Pelosi had instructed him to explore \"how we can use the tax code to invest in modernizing and uplifting our communities while creating good jobs that will get Americans back on their feet.\"',\n",
              "  'title': \"House Democrats kick off work on an infrastructure package after enacting Biden's stimulus plan\"},\n",
              " {'author': 'Tanza Loudenback',\n",
              "  'date': '2021-03-12T23:05:35Z',\n",
              "  'fullArticle': \"If you buy through our links, we may earn money from affiliate partners. Learn more.About 100 million stimulus checks will be delivered by March 24, President Joe Biden said on Monday.Most payments will arrive via direct deposit; others will be mailed as a paper check or a prepaid debit card.You need a Social Security number and income under $80,000 as a single filer or $160,000 as a joint filer to get a check. If you're married to someone who doesn't have a Social Security number and file taxes jointly, you're still eligible. And taxpayers who claim dependents of any age can also get up to $1,400 per person added to their check.\",\n",
              "  'title': \"Here's how you'll get the 3rd stimulus check if you qualify\"},\n",
              " {'author': 'Charles Davis',\n",
              "  'date': '2021-03-12T23:04:00Z',\n",
              "  'fullArticle': 'New York\\'s two Democratic US senators said Friday that Gov. Andrew Cuomo should step down amid allegations from six women that he engaged in sexual harassment.In a joint statement, Senate Majority Leader Chuck Schumer and Sen. Kirsten Gillibrand said Cuomo \"should resign.\"\"Confronting and overcoming the COVID crisis requires sure and steady leadership,\" the senators said, commending the women for coming forward with their \"serious allegations of abuse and misconduct.\"Calling their allegations \"credible,\" the senators said \"it is clear that Governor Cuomo has lost the confidence of his governing partners and the people of New York.\"',\n",
              "  'title': \"New York Senators Chuck Schumer and Kirsten Gillibrand say Gov. Andrew Cuomo 'should resign'\"},\n",
              " {'author': 'Ryan Ariano',\n",
              "  'date': '2021-03-12T22:55:26Z',\n",
              "  'fullArticle': \"The Apple One bundle can combine up to six of its services into one subscription, and give you a discounted price on all of them. This allows you to subscribe to Apple Music, Apple TV Plus, Apple Arcade, and iCloud, plus you can get Apple News Plus and Apple Fitness Plus with the Premier plan. Apple also offers a free month to try the bundle.\\xa0If you want to cancel Apple One during the free trial, or after the full subscription has begun, you need to know how. Fortunately, you can cancel through any device that lets you access your Apple ID Subscriptions page.Note that to cancel Apple One on a Mac like this, you'll first need to connect your Mac and Apple ID.\",\n",
              "  'title': \"How to cancel an Apple One subscription once you're done with the bundled subscription service\"},\n",
              " {'author': 'Liz Knueven',\n",
              "  'date': '2021-03-12T22:37:42Z',\n",
              "  'fullArticle': 'A savings account is a good place to save money for short-term goals like a down payment, a car, a vacation, or an emergency fund.But a high-yield savings account is a better place.\\n\\nHigh-yield savings accounts\\n are essentially the same as any other savings accounts, with one key difference: With a high-yield savings account, you earn about 10 times more interest on your money than you would with a regular savings account.Both types of accounts:',\n",
              "  'title': 'The only difference between regular and high-yield savings that matters is the one that earns you 10 times more on your money'},\n",
              " {'author': 'ehoffman@businessinsider.com (Insider Reviews Team,Walmart)',\n",
              "  'date': '2021-03-12T22:34:30Z',\n",
              "  'fullArticle': \"This story was created by the Insider Reviews Team in collaboration with Walmart+. We earn money from our partners.\\xa0Learn more.\\nWhile many will adjust their clocks forward by an hour on Sunday, Walmart has been focusing on a different kind of rollback. All Walmart shoppers can currently save on hundreds of popular products during the Spring forward Rollback event.\\xa0Though the rollbacks span across many different product categories, some of the best current deals are on major tech, home, and kitchen products. Chromebooks, earbuds, and air fryers are all seeing significant discounts. We've profiled some of the best deals currently available below.\\xa0\",\n",
              "  'title': \"Walmart+ members can currently get free shipping on dozens of products during Walmart's Spring forward Rollback event\"},\n",
              " {'author': 'ssheth@businessinsider.com (Sonam Sheth,Jacob Shamsian)',\n",
              "  'date': '2021-03-12T22:33:20Z',\n",
              "  'fullArticle': 'After a months-long battle with Donald Trump over his closely held tax returns, the Manhattan district attorney\\'s office may finally be in the end stages of its wide-ranging investigation into the former president\\'s financial dealings.Trump has repeatedly refused to release his tax returns. But in February, prosecutors notched a major victory when the Supreme Court forced Trump to hand over thousands of pages of his financial information to the DA\\'s office.The DA\\'s investigation is examining whether Trump or his businesses falsely reported the value of properties for tax and loan purposes, which would violate New York law. In the weeks since prosecutors obtained his financial records, the investigation has ramped up significantly, according to media reports and two former prosecutors who spoke to Insider.\"They mean business now,\" one source told The New Yorker\\'s Jane Mayer. The person believed Manhattan district attorney Cyrus Vance Jr.\\'s investigation had stagnated while Trump was in office and prosecutors were fighting a court battle to get his taxes. But now, the source told Mayer, prosecutors\\' questions have become \"very pointed — they\\'re sharpshooting now, laser-beaming.\"',\n",
              "  'title': \"Manhattan prosecutors could be in the final stages of their wide-ranging investigation into Trump's finances\"},\n",
              " {'author': 'Allana Akhtar',\n",
              "  'date': '2021-03-12T22:17:15Z',\n",
              "  'fullArticle': 'Amazon has stopped selling books that frame LGBTQ+ identity as a mental illness.\\xa0Brian Huseman, Amazon\\'s vice president of public policy, wrote a letter to four Republican senators confirming the online retailer stopped selling \"When Harry Became Sally,\" a book written by Ryan T. Anderson, a former fellow for the conservative think tank Heritage Foundation.Anderson\\'s book, which says being transgender is a mental illness, was previously an Amazon bestseller.Huseman said in the letter, which was reviewed by Insider, that the platform does not have a \"broad campaign\" against conservative materials and offers customers content from a wide political spectrum. The Wall Street Journal first reported on the letter.',\n",
              "  'title': 'Amazon has stopped selling books that frame LGBTQ+ identity as a mental illness (AMZN)'},\n",
              " {'author': 'David McMillin',\n",
              "  'date': '2021-03-12T21:57:46Z',\n",
              "  'fullArticle': \"Personal Finance Insider writes about products, strategies, and tips to help you make smart decisions with your money. We may receive a small commission from our partners, like American Express, but our reporting and recommendations are always independent and objective.Pay with your credit card, and pay yourself back in bitcoin — that's the value proposition of the new BlockFi Bitcoin Rewards Credit Card, which recently opened its waitlist to everyone. It's the first-ever credit card that replaces the traditional cash-back or miles-and-points rewards structure with the ability to rack up the cryptocurrency that appears on Elon Musk's Twitter bio.All purchases earn 1.5% back in bitcoin. So, spend $100, and you'll get $1.50 worth of bitcoin.\\xa0As you continue to see Bitcoin in headlines everywhere you turn, should you apply to have one of these cards land in your mailbox? Weigh these key considerations before adding your name to the waitlist.\",\n",
              "  'title': \"The BlockFi Bitcoin credit card waitlist is open — here's what to consider if you're thinking of applying\"},\n",
              " {'author': 'insider@insider.com (Christopher Woody)',\n",
              "  'date': '2021-03-12T21:42:34Z',\n",
              "  'fullArticle': 'US Air Force B-1B Lancer bombers that deployed to Norway in late February have already demonstrated their reach in the air around Europe, and this week they tested their ability to put bombs on target in new surroundings.On March 8, a bomber conducted Joint Terminal Attack Controller training with US Navy SEALs, US Marines, and Norwegian soldiers near Setermoen in the Norwegian Arctic.JTACs, as they\\'re known, direct aircraft during close-air-support missions. For this training, US and Norwegian JTACs took position \"on top of a mountain and quickly established communications\" with the bomber to call in targets, a Marine Corps release said.The exercise comes as NATO militaries have increased their focus on the European Arctic, conducting more ground, air, and naval operations there.',\n",
              "  'title': 'SEALs, Marines, and Norwegian soldiers teamed up with B-1B bombers to practice dropping bombs on new terrain'},\n",
              " {'author': 'kwebb@businessinsider.com (Kevin Webb)',\n",
              "  'date': '2021-03-12T21:33:35Z',\n",
              "  'fullArticle': 'If you buy through our links, we may earn money from affiliate partners. Learn more.Champions Juan Francisco Estrada and Román \"Chocolatito\" González will fight to unify the WBC and WBA super flyweight titles on March 13. The match will be held in Dallas, Texas at the American Airlines Center, and will stream live on DAZN starting at 8 p.m. ET.Estrada and González previously fought in 2012, when González claimed the WBA light flyweight title in a unanimous decision. Throughout the eight years since their last meeting, the two fighters have only lost three matches between them, during a span where Thai boxer Srisaket Sor Rungvisai claimed the WBC title. Estrada reclaimed the WBC belt with a win over Sor Rungvisai in April 2019, while González became the WBA title holder with a February 2020 win over Kal Yafai.On the undercard, Cecilia Braekhus will rematch Jessica McCaskill for a chance to regain her title as the world\\'s undisputed women\\'s welterweight champion. McCaskill handed Braekhus her first career loss in August 2020 and ended her streak of 25 consecutive title defenses, a record matched only by heavyweight legend Joe Louis.',\n",
              "  'title': 'How to watch Estrada vs. Chocolatito 2 on Saturday when the super flyweight champions meet in a unification rematch'},\n",
              " {'author': 'Blake Dodge',\n",
              "  'date': '2021-03-12T21:26:15Z',\n",
              "  'fullArticle': \"Amazon is about to launch its \\n                          \\ntelehealth\\n offering for other employers and more Amazon employees throughout the country, two people familiar with the matter told Insider.Through a mobile app, Amazon Care offers online appointments with healthcare professionals, as well as home and worksite visits. To date, the service has been available only to Amazon employees in Washington state.\\xa0That's starting to change. Insider reported in December that Amazon Care was undertaking a national expansion, with the goal of serving workers at other major companies. Care Medical, the group that runs Amazon Care's doctor's visits, has been quickly laying the groundwork to operate throughout the US. The group has filed with regulators to operate in at least 28 states, according to a review of state filings by Insider.Now Amazon Care is gearing up to go public with its ambitions, said the two people, who spoke on condition of anonymity because they were not authorized to speak with the press. The announcement could be days or weeks away, as the exact timing has not yet been determined.\",\n",
              "  'title': 'Amazon is gearing up to launch its telehealth business for other companies and the rest of its US employees'},\n",
              " {'author': 'Tanza Loudenback and Stephanie Hallett',\n",
              "  'date': '2021-03-12T21:25:36Z',\n",
              "  'fullArticle': \"Personal Finance Insider writes about products, strategies, and tips to help you make smart decisions with your money. We may receive a small commission from our partners, like American Express, but our reporting and recommendations are always independent and objective.If you own a small business, tax season can get hectic.Hiring an accountant to prepare and file your business taxes can save you time, but it's usually much cheaper to do it yourself online.To find the best online tax software for small business owners, we compared three of the leading online tax preparers — TurboTax, TaxAct, and BlockAdvisors — on price, accessibility, and ease of use.\",\n",
              "  'title': 'Best tax software for small business owners: How TurboTax, TaxAct, and BlockAdvisors compare'},\n",
              " {'author': 'Camila DeChalus and Kimberly Leonard',\n",
              "  'date': '2021-03-12T21:15:49Z',\n",
              "  'fullArticle': \"Doctors and other healthcare workers are finding themselves straddling a confusing line between making sure no COVID vaccine goes to waste, and committing potential crimes if they give away unclaimed shots.\\xa0When people don't show up for their vaccine appointments, pharmacists and doctors are stuck with extra doses that could end up in the trash if not used before their short shelf-life runs out.\\xa0But there could be still-unclear legal consequences for giving those shots away, and a recent case in Texas served as a chilling reminder for the medical community.Months after the vaccines became available, the guidance remains unclear on when it's acceptable to give away those shots to the next available person who otherwise may not yet be eligible for their vaccine.\\xa0\",\n",
              "  'title': 'Is it a crime to give away leftover COVID shots? Doctors and other healthcare workers fear legal consequences as they wait for Justice Department guidance.'},\n",
              " {'author': 'wdaniel@businessinsider.com (Will Daniel)',\n",
              "  'date': '2021-03-12T21:10:23Z',\n",
              "  'fullArticle': 'The star NFL quarterback sat down with CNBC on Friday to discuss \"The Museum of Mahomes,\" which is set to launch March 17 on MakersPlace, a digital art selling platform.In the interview, Mahomes said he got into NFTs in order to \"find another way to connect with my fans.\" The Kansas City Chiefs star is teaming up with a group of artists who call themselves The Impossible Brief to put on an NFT sale.There will be six different art pieces for sale in the digital \"museum\" ranging in price from $2,500 to up to $15,000. The virtual exhibit will also include one mystery item that has yet to be priced.\\n\\n\\nTen signed helmets and jerseys will be given away to randomly selected winners who take part in the sale as well.',\n",
              "  'title': \"Star NFL QB Patrick Mahomes says it was a 'no brainer' for him to get into NFTs\"},\n",
              " {'author': 'mfox@businessinsider.com (Matthew Fox)',\n",
              "  'date': '2021-03-12T21:07:40Z',\n",
              "  'fullArticle': \"The yield on the 10-year US Treasury note spiked to 1.64% on Friday, representing a new cycle high since the COVID-19 pandemic began.The spike in yields came after President Joe Biden signed his $1.9 trillion stimulus package into law, spurring inflationary concerns. Continued progress on the COVID-19 vaccine front also helped support higher bond yields as investors prepare for strong economic growth.Here's where US indexes stood at the 4 p.m. ET close on Friday:\\n\\n\\nRead more: Bank of America lays out 7 ways investors should start preparing portfolios before inflation jumps - and explains why to expect higher consumer prices and interest rates for the foreseeable future\",\n",
              "  'title': \"Dow closes at record high, tech falters as traders mull the impact of Biden's stimulus\"},\n",
              " {'author': 'Ben Gilbert',\n",
              "  'date': '2021-03-12T21:02:20Z',\n",
              "  'fullArticle': 'Founder and former Theranos CEO Elizabeth Holmes is pregnant, according to new court documents.Holmes expects to give birth in July, and is requesting a delay to her federal trial, according to newly filed court documents. Both Holmes\\' lawyers and the prosecution requested the trial\\'s delay. If approved, she\\'ll face trial for multiple federal charges of fraud starting on August 31.Holmes is accused of defrauding the company\\'s investors out of millions of dollars after promising of a new type of blood test. That test was purported to perform a multitude of blood tests, able to detect everything from \\n                          \\nhigh cholesterol\\n to cancer, with a simple pin prick.\\xa0The company raised over $700 million from investors on the promise of such a test. By August 2015, the FDA began investigating Theranos and found \"major inaccuracies\" in its tests.',\n",
              "  'title': 'Former Theranos CEO Elizabeth Holmes is pregnant, and is requesting her federal trial be delayed again'},\n",
              " {'author': 'Sponsor Post',\n",
              "  'date': '2021-03-12T21:00:00Z',\n",
              "  'fullArticle': \"Nationwide, nearly 80% of employees have something to say: They're frustrated.\\xa0Very\\xa0frustrated.New research conducted by OnePoll reveals the source of their unhappiness, and while it's not likely what you'd expect, you're likely to relate. Their collective frustration stems from the outdated technology they have to use at work to do their work. Most of the time, it slows productivity; other times, it brings productivity to a halt.While we've all been there — flummoxed by one form of clunky tech or another, irritated with unintuitive software — what's surprising is how seriously the surveyed employees take the issue. In fact, roughly 70% of them would be willing to take a pay cut in exchange for software and tech twice as good as what they currently use.Repeat:\\xa0More than two-thirds are willing to take a pay cut. That's staggering.\",\n",
              "  'title': 'Why upgrading your workplace technology is the smartest investment for any business'},\n",
              " {'author': 'ktaylor@businessinsider.com (Kate Taylor)',\n",
              "  'date': '2021-03-12T20:58:22Z',\n",
              "  'fullArticle': 'Subway is shifting some of its workforce to Miami, Florida, where the chain\\'s CEO owns a home.The chain told employees that it was moving several business units to Florida on Thursday, the New York Post reported. The Post reported that \"at least some staffers were told that they would not be invited to Miami when the transition takes place in 2022.\"\\xa0A representative for Subway confirmed the report, telling Insider that the majority of the company\\'s workforce will remain at its Milford, Connecticut headquarters.\\xa0\"We can confirm that some functional areas are moving to Miami,\" Subway said in a statement. \"These include more consumer-facing positions in marketing, culinary and some global transformation roles. This enables the brand to establish even more seamless collaboration with our supply chain organization, the Independent Purchasing Cooperative, which is also based in Miami.\"',\n",
              "  'title': \"Subway moves jobs from Connecticut headquarters to Miami, where the sandwich chain's CEO owns a home\"}]"
            ]
          },
          "metadata": {
            "tags": []
          },
          "execution_count": 23
        }
      ]
    },
    {
      "cell_type": "code",
      "metadata": {
        "id": "iWb-3icAJk-q",
        "colab": {
          "base_uri": "https://localhost:8080/",
          "height": 17
        },
        "outputId": "5e20b911-a442-457a-995b-652f40f330b2"
      },
      "source": [
        "x = json.dumps (businessInsider)\r\n",
        "y = x.encode('utf-8')\r\n",
        "with open('businessInsider.json', 'w') as f:\r\n",
        "  f.write(str(y))\r\n",
        "\r\n",
        "files.download('businessInsider.json')"
      ],
      "execution_count": null,
      "outputs": [
        {
          "output_type": "display_data",
          "data": {
            "application/javascript": [
              "\n",
              "    async function download(id, filename, size) {\n",
              "      if (!google.colab.kernel.accessAllowed) {\n",
              "        return;\n",
              "      }\n",
              "      const div = document.createElement('div');\n",
              "      const label = document.createElement('label');\n",
              "      label.textContent = `Downloading \"${filename}\": `;\n",
              "      div.appendChild(label);\n",
              "      const progress = document.createElement('progress');\n",
              "      progress.max = size;\n",
              "      div.appendChild(progress);\n",
              "      document.body.appendChild(div);\n",
              "\n",
              "      const buffers = [];\n",
              "      let downloaded = 0;\n",
              "\n",
              "      const channel = await google.colab.kernel.comms.open(id);\n",
              "      // Send a message to notify the kernel that we're ready.\n",
              "      channel.send({})\n",
              "\n",
              "      for await (const message of channel.messages) {\n",
              "        // Send a message to notify the kernel that we're ready.\n",
              "        channel.send({})\n",
              "        if (message.buffers) {\n",
              "          for (const buffer of message.buffers) {\n",
              "            buffers.push(buffer);\n",
              "            downloaded += buffer.byteLength;\n",
              "            progress.value = downloaded;\n",
              "          }\n",
              "        }\n",
              "      }\n",
              "      const blob = new Blob(buffers, {type: 'application/binary'});\n",
              "      const a = document.createElement('a');\n",
              "      a.href = window.URL.createObjectURL(blob);\n",
              "      a.download = filename;\n",
              "      div.appendChild(a);\n",
              "      a.click();\n",
              "      div.remove();\n",
              "    }\n",
              "  "
            ],
            "text/plain": [
              "<IPython.core.display.Javascript object>"
            ]
          },
          "metadata": {
            "tags": []
          }
        },
        {
          "output_type": "display_data",
          "data": {
            "application/javascript": [
              "download(\"download_79a7f869-88a0-450e-9a20-647601fb7f75\", \"businessInsider.json\", 20618)"
            ],
            "text/plain": [
              "<IPython.core.display.Javascript object>"
            ]
          },
          "metadata": {
            "tags": []
          }
        }
      ]
    }
  ]
}